{
 "cells": [
  {
   "cell_type": "code",
   "execution_count": 10,
   "metadata": {},
   "outputs": [
    {
     "name": "stderr",
     "output_type": "stream",
     "text": [
      "2024/11/23 15:52:21 WARNING mlflow.models.model: Model logged without a signature and input example. Please set `input_example` parameter when logging the model to auto infer the model signature.\n"
     ]
    }
   ],
   "source": [
    "import mlflow\n",
    "import mlflow.sklearn\n",
    "from sklearn.datasets import make_classification\n",
    "from sklearn.model_selection import train_test_split\n",
    "from sklearn.ensemble import RandomForestClassifier\n",
    "from sklearn.metrics import accuracy_score\n",
    "import pandas as pd\n",
    "\n",
    "# Tạo dữ liệu phân loại\n",
    "X, y = make_classification(n_samples=1000, n_features=20, n_classes=2, random_state=42)\n",
    "X_train, X_test, y_train, y_test = train_test_split(X, y, test_size=0.2, random_state=42)\n",
    "\n",
    "# Khởi động một Run của MLflow\n",
    "with mlflow.start_run():\n",
    "    # Huấn luyện mô hình phân loại đơn giản nhất\n",
    "    clf = RandomForestClassifier(n_estimators=10, random_state=42)\n",
    "    clf.fit(X_train, y_train)\n",
    "\n",
    "    # Dự đoán và tính toán accuracy\n",
    "    y_pred = clf.predict(X_test)\n",
    "    acc = accuracy_score(y_test, y_pred)\n",
    "\n",
    "    # Log các thông số và metric với MLflow\n",
    "    mlflow.log_param(\"n_estimators\", 10)\n",
    "    mlflow.log_metric(\"accuracy\", acc)\n",
    "\n",
    "    # Log mô hình đã huấn luyện\n",
    "    mlflow.sklearn.log_model(clf, \"model\")\n"
   ]
  },
  {
   "cell_type": "code",
   "execution_count": 11,
   "metadata": {},
   "outputs": [
    {
     "name": "stderr",
     "output_type": "stream",
     "text": [
      "2024/11/23 15:52:25 WARNING mlflow.models.model: Model logged without a signature and input example. Please set `input_example` parameter when logging the model to auto infer the model signature.\n",
      "2024/11/23 15:52:29 WARNING mlflow.models.model: Model logged without a signature and input example. Please set `input_example` parameter when logging the model to auto infer the model signature.\n",
      "2024/11/23 15:52:34 WARNING mlflow.models.model: Model logged without a signature and input example. Please set `input_example` parameter when logging the model to auto infer the model signature.\n"
     ]
    }
   ],
   "source": [
    "hyperparameter_sets = [\n",
    "    {\"n_estimators\": 50, \"max_depth\": 5},\n",
    "    {\"n_estimators\": 100, \"max_depth\": 10},\n",
    "    {\"n_estimators\": 150, \"max_depth\": 15},\n",
    "]\n",
    "\n",
    "for params in hyperparameter_sets:\n",
    "    with mlflow.start_run():\n",
    "        clf = RandomForestClassifier(n_estimators=params[\"n_estimators\"], max_depth=params[\"max_depth\"], random_state=42)\n",
    "        clf.fit(X_train, y_train)\n",
    "        y_pred = clf.predict(X_test)\n",
    "        acc = accuracy_score(y_test, y_pred)\n",
    "        \n",
    "        mlflow.log_params(params)\n",
    "        mlflow.log_metric(\"accuracy\", acc)\n",
    "        mlflow.sklearn.log_model(clf, \"model\")\n"
   ]
  },
  {
   "cell_type": "code",
   "execution_count": 12,
   "metadata": {},
   "outputs": [
    {
     "name": "stderr",
     "output_type": "stream",
     "text": [
      "Registered model 'Best_Classifier_Model' already exists. Creating a new version of this model...\n",
      "Created version '4' of model 'Best_Classifier_Model'.\n"
     ]
    },
    {
     "data": {
      "text/plain": [
       "<ModelVersion: aliases=[], creation_timestamp=1732351954589, current_stage='None', description=None, last_updated_timestamp=1732351954589, name='Best_Classifier_Model', run_id='832d596fb0c5424d9d082ea7c57e0c0f', run_link=None, source='file:///c:/FPT%20edu/MLOps/Final%20Project/mlruns/0/832d596fb0c5424d9d082ea7c57e0c0f/artifacts/model', status='READY', status_message=None, tags={}, user_id=None, version=4>"
      ]
     },
     "execution_count": 12,
     "metadata": {},
     "output_type": "execute_result"
    }
   ],
   "source": [
    "import mlflow.pyfunc\n",
    "\n",
    "best_run = mlflow.search_runs(order_by=[\"metrics.accuracy DESC\"]).iloc[0]\n",
    "best_run_id = best_run.run_id\n",
    "\n",
    "# Đăng ký mô hình tốt nhất\n",
    "model_uri = f\"runs:/{best_run_id}/model\"\n",
    "mlflow.register_model(model_uri, \"Best_Classifier_Model\")\n"
   ]
  },
  {
   "cell_type": "code",
   "execution_count": 13,
   "metadata": {},
   "outputs": [
    {
     "name": "stderr",
     "output_type": "stream",
     "text": [
      "C:\\Users\\Admin\\AppData\\Local\\Temp\\ipykernel_7492\\1020349184.py:10: FutureWarning: ``mlflow.tracking.client.MlflowClient.transition_model_version_stage`` is deprecated since 2.9.0. Model registry stages will be removed in a future major release. To learn more about the deprecation of model registry stages, see our migration guide here: https://mlflow.org/docs/latest/model-registry.html#migrating-from-stages\n",
      "  client.transition_model_version_stage(\n"
     ]
    },
    {
     "data": {
      "text/plain": [
       "<ModelVersion: aliases=[], creation_timestamp=1732351954589, current_stage='Production', description=None, last_updated_timestamp=1732351954635, name='Best_Classifier_Model', run_id='832d596fb0c5424d9d082ea7c57e0c0f', run_link=None, source='file:///c:/FPT%20edu/MLOps/Final%20Project/mlruns/0/832d596fb0c5424d9d082ea7c57e0c0f/artifacts/model', status='READY', status_message=None, tags={}, user_id=None, version=4>"
      ]
     },
     "execution_count": 13,
     "metadata": {},
     "output_type": "execute_result"
    }
   ],
   "source": [
    "from mlflow.tracking import MlflowClient\n",
    "\n",
    "client = MlflowClient()\n",
    "\n",
    "# Lấy thông tin phiên bản mới nhất của mô hình đã đăng ký\n",
    "model_versions = client.search_model_versions(\"name='Best_Classifier_Model'\")\n",
    "latest_version = max(int(model.version) for model in model_versions)\n",
    "\n",
    "# Chuyển phiên bản mới nhất sang stage \"Production\"\n",
    "client.transition_model_version_stage(\n",
    "    name=\"Best_Classifier_Model\",\n",
    "    version=str(latest_version),\n",
    "    stage=\"Production\"\n",
    ")\n"
   ]
  },
  {
   "cell_type": "code",
   "execution_count": 14,
   "metadata": {},
   "outputs": [
    {
     "name": "stderr",
     "output_type": "stream",
     "text": [
      "c:\\Anaconda\\envs\\MLCoursera\\Lib\\site-packages\\mlflow\\store\\artifact\\utils\\models.py:31: FutureWarning: ``mlflow.tracking.client.MlflowClient.get_latest_versions`` is deprecated since 2.9.0. Model registry stages will be removed in a future major release. To learn more about the deprecation of model registry stages, see our migration guide here: https://mlflow.org/docs/latest/model-registry.html#migrating-from-stages\n",
      "  latest = client.get_latest_versions(name, None if stage is None else [stage])\n"
     ]
    },
    {
     "data": {
      "text/plain": [
       "mlflow.pyfunc.loaded_model:\n",
       "  artifact_path: model\n",
       "  flavor: mlflow.sklearn\n",
       "  run_id: 832d596fb0c5424d9d082ea7c57e0c0f"
      ]
     },
     "execution_count": 14,
     "metadata": {},
     "output_type": "execute_result"
    }
   ],
   "source": [
    "model = mlflow.pyfunc.load_model(\"models:/Best_Classifier_Model/Production\")\n",
    "model"
   ]
  },
  {
   "cell_type": "code",
   "execution_count": null,
   "metadata": {},
   "outputs": [],
   "source": []
  }
 ],
 "metadata": {
  "kernelspec": {
   "display_name": "MLCoursera",
   "language": "python",
   "name": "python3"
  },
  "language_info": {
   "codemirror_mode": {
    "name": "ipython",
    "version": 3
   },
   "file_extension": ".py",
   "mimetype": "text/x-python",
   "name": "python",
   "nbconvert_exporter": "python",
   "pygments_lexer": "ipython3",
   "version": "3.11.9"
  }
 },
 "nbformat": 4,
 "nbformat_minor": 2
}
